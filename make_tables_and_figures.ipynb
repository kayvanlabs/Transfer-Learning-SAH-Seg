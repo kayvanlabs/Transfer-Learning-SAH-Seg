{
 "cells": [
  {
   "cell_type": "code",
   "execution_count": null,
   "metadata": {},
   "outputs": [],
   "source": [
    "import os\n",
    "import pydicom.data\n",
    "import pandas as pd\n",
    "import matplotlib.pyplot as plt\n",
    "import seaborn as sns\n",
    "import re"
   ]
  },
  {
   "cell_type": "markdown",
   "metadata": {},
   "source": [
    "### Get slice thickness and pixel spacing from DICOM metadata"
   ]
  },
  {
   "cell_type": "code",
   "execution_count": null,
   "metadata": {},
   "outputs": [],
   "source": [
    "path = 'path/to/folder/where/each/subfolder/isthepatientid/and/inthose/arethe/dicom/folders'\n",
    "pids = os.listdir(path)\n",
    "\n",
    "pixel_volumes = []\n",
    "\n",
    "for pid in pids:\n",
    "    dicom_path = os.path.join(path, pid, 'DICOM')\n",
    "\n",
    "    # load list of files\n",
    "    files = os.listdir(dicom_path)\n",
    "    filename = pydicom.data.data_manager.get_files(dicom_path, files[0])[0] # get first dicom image for each series\n",
    "    ds = pydicom.dcmread(filename)\n",
    "    pixel_volume = ds.PixelSpacing[0] * ds.PixelSpacing[1] * ds.SliceThickness\n",
    "    pixel_volumes.append([pid, pixel_volume])\n",
    "\n",
    "df_volumes = pd.DataFrame(pixel_volumes, columns=['pid', 'pixel_volume'])\n",
    "df_volumes['pid'] = df_volumes['pid'].astype(int)\n",
    "\n",
    "# load mask pixel counts, prediction pixel counts, dice, pid data\n",
    "df = pd.DataFrame()\n",
    "\n",
    "for fold in range(3):\n",
    "    file_path = f'pathto/dices_fold-{fold}.csv'\n",
    "    fold_df = pd.read_csv(file_path)\n",
    "    fold_df['fold'] = fold\n",
    "    df = pd.concat([df, fold_df])\n",
    "\n",
    "df = pd.merge(df, df_volumes, left_on='Patient', right_on='pid')\n",
    "df['mask_volume'] = df['Mask_Pixel_Count'] * df['pixel_volume']\n",
    "df['pred_volume'] = df['Pred_Pixel_Count'] * df['pixel_volume']\n",
    "total_volumes = pd.DataFrame(df.groupby('pid')[['mask_volume','pred_volume']].sum()).reset_index()"
   ]
  },
  {
   "cell_type": "markdown",
   "metadata": {},
   "source": [
    "### Get model performance"
   ]
  },
  {
   "cell_type": "code",
   "execution_count": null,
   "metadata": {},
   "outputs": [],
   "source": [
    "models = {\n",
    "    'Shallow' : 'path_to_shallow_model',\n",
    "    'Deep' : 'path_to_deep_model',\n",
    "    'Encoding' : 'path_to_encoding_model',\n",
    "    'Decoding' : 'path_to_decoding_model',\n",
    "    'Unet' : 'path_to_unet_model',\n",
    "    'Decoding + Tucker' : 'path_to_decoding_tucker_model',\n",
    "    'Decoding + CP' : 'path_to_decoding_cp_model',\n",
    "    'Decoding + TT' : 'path_to_decoding_tt_model'\n",
    "}\n",
    "\n",
    "df_m = pd.DataFrame()\n",
    "\n",
    "for name, file in models.items():\n",
    "    path = f'outputs/{file}/Running.log'\n",
    "\n",
    "    with open(path, 'r') as f:\n",
    "        lines = f.readlines()\n",
    "\n",
    "    pid_dice = []\n",
    "\n",
    "    for line in lines:\n",
    "        if 'Dice Score for Patient' in line:\n",
    "            pid = int(re.findall('Patient\\s(\\d*)', line)[0])\n",
    "            dice = float(re.findall('is\\s(.*)$', line)[0])\n",
    "            pid_dice.append([name, pid, dice])\n",
    "\n",
    "    df_m = pd.concat([df_m, pd.DataFrame(pid_dice, columns=['model', 'pid', 'dice'])])\n",
    "\n",
    "\n",
    "data = pd.merge(total_volumes, df_m, on='pid')\n",
    "data['mask_volume'] = data['mask_volume'] / 1000\n",
    "data['pred_volume'] = data['pred_volume'] / 1000    \n",
    "data['bin'] = pd.cut(data['mask_volume'], bins=[0,25,50,100,225])"
   ]
  },
  {
   "cell_type": "markdown",
   "metadata": {},
   "source": [
    "### Visualizations"
   ]
  },
  {
   "cell_type": "code",
   "execution_count": null,
   "metadata": {},
   "outputs": [],
   "source": [
    "# volume plot\n",
    "data_top = data[data['model'] == 'Decoding + Tucker'].reset_index(drop=True)\n",
    "max = data_top[['mask_volume','pred_volume']].max().max()\n",
    "max = max + 10 - (max % 10)\n",
    "\n",
    "sns.regplot(data=data_top, x='mask_volume', y='pred_volume',\n",
    "            ci=95, line_kws=dict(color=\"grey\"), scatter_kws={'s':15,'color':'black'})\n",
    "\n",
    "plt.plot([0, max], [0, max], color='grey', linestyle='--')\n",
    "         \n",
    "plt.xlabel('Annotated Blood Volume (mL)', fontsize=14)\n",
    "plt.ylabel('Predicted Blood Volume (mL)', fontsize=14)\n",
    "plt.xticks(fontsize=12)\n",
    "plt.yticks(fontsize=12)\n",
    "plt.xlim(0, max)\n",
    "plt.ylim(0, max)\n",
    "plt.savefig('volume.png', dpi=300, bbox_inches='tight')"
   ]
  },
  {
   "cell_type": "code",
   "execution_count": null,
   "metadata": {},
   "outputs": [],
   "source": [
    "df_m.groupby('model')['dice'].describe().sort_values('mean', ascending=False)"
   ]
  },
  {
   "cell_type": "code",
   "execution_count": null,
   "metadata": {},
   "outputs": [],
   "source": [
    "data[['Modules','Decomposition']] = data['model'].str.split('+',expand=True)\n",
    "data['Modules'] = data['Modules'].str.strip()\n",
    "data['Decomposition'] = data['Decomposition'].str.strip()\n",
    "x = data[~data['Modules'].isin(['All','None','U-Net'])]\n",
    "x = x.groupby(['Modules','Decomposition'], dropna=False)['dice'].describe()[['mean','std']]\n",
    "x['Mean'] = round(x['mean'], 3).astype(str) + ' +/-' + round(x['std'], 2).astype(str)\n",
    "x = x.drop(['mean','std'], axis=1)\n",
    "x"
   ]
  },
  {
   "cell_type": "code",
   "execution_count": null,
   "metadata": {},
   "outputs": [],
   "source": [
    "x = data.groupby(['model','bin'])['dice'].describe()\n",
    "x = x.reset_index()\n",
    "x = x[['model','bin','mean','std','count']]\n",
    "x['value'] = round(x['mean'], 3).astype(str) + ' (+/-' + round(x['std'], 3).astype(str) + ')'\n",
    "print(x[['bin','count']].drop_duplicates())\n",
    "x = x.pivot_table(index='model', columns='bin', values='value', aggfunc=lambda x: ' '.join(x))\n",
    "x"
   ]
  }
 ],
 "metadata": {
  "language_info": {
   "name": "python"
  }
 },
 "nbformat": 4,
 "nbformat_minor": 2
}
